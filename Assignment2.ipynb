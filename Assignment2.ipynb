{
 "cells": [
  {
   "cell_type": "code",
   "execution_count": 1,
   "metadata": {},
   "outputs": [],
   "source": [
    "# WAP to count total no. of negative elements in array"
   ]
  },
  {
   "cell_type": "code",
   "execution_count": 5,
   "metadata": {},
   "outputs": [
    {
     "name": "stdout",
     "output_type": "stream",
     "text": [
      "Total_Nigetive_Number 3\n"
     ]
    }
   ],
   "source": [
    "l1 = [1,2,-3,4,8,-7,6,-9]\n",
    "positive_no = 0\n",
    "nigetive_no = 0\n",
    "for i in l1:\n",
    "     #condition\n",
    "    if(i >= 0):\n",
    "        positive_no += 1\n",
    "    else:\n",
    "        nigetive_no += 1\n",
    "        \n",
    "print(\"Total_Nigetive_Number\",nigetive_no)\n",
    "    "
   ]
  },
  {
   "cell_type": "code",
   "execution_count": 6,
   "metadata": {},
   "outputs": [],
   "source": [
    "# wap for program to fond sum of all element of an aray"
   ]
  },
  {
   "cell_type": "code",
   "execution_count": 1,
   "metadata": {},
   "outputs": [
    {
     "name": "stdout",
     "output_type": "stream",
     "text": [
      "sum_of_all_elements: 28\n"
     ]
    }
   ],
   "source": [
    "l1 = [1,2,4,8,7,6]\n",
    "num = 0\n",
    "for i in range(0,len(l1)):\n",
    "    num = num + l1[i]\n",
    "    \n",
    "print(\"sum_of_all_elements:\",num)"
   ]
  },
  {
   "cell_type": "code",
   "execution_count": 2,
   "metadata": {},
   "outputs": [],
   "source": [
    "# prgram to enter any number and calculate sum of its digits"
   ]
  },
  {
   "cell_type": "code",
   "execution_count": 5,
   "metadata": {},
   "outputs": [
    {
     "name": "stdout",
     "output_type": "stream",
     "text": [
      "Enter any number :115\n",
      "sum of digit 7\n"
     ]
    }
   ],
   "source": [
    "num = int(input(\"Enter any number :\"))\n",
    "sum = 0\n",
    "\n",
    "while (num>0):\n",
    "    reminder = num % 10\n",
    "    sum = sum + reminder\n",
    "    num = num // 10\n",
    "\n",
    "print(\"sum of digit\",sum)"
   ]
  },
  {
   "cell_type": "code",
   "execution_count": null,
   "metadata": {},
   "outputs": [],
   "source": [
    "# prgram to enter any number and calculate multiplication of its digits"
   ]
  },
  {
   "cell_type": "code",
   "execution_count": 17,
   "metadata": {},
   "outputs": [
    {
     "name": "stdout",
     "output_type": "stream",
     "text": [
      "Enter any number :5555\n",
      "multiplication of digits 625\n"
     ]
    }
   ],
   "source": [
    "num = int(input(\"Enter any number :\"))\n",
    "product = 1\n",
    "\n",
    "while (num != 0):\n",
    "    reminder = num % 10\n",
    "    product = product * reminder\n",
    "    num = num // 10\n",
    "\n",
    "print(\"multiplication of digits\",product)"
   ]
  },
  {
   "cell_type": "code",
   "execution_count": null,
   "metadata": {},
   "outputs": [],
   "source": [
    "#Program to check character is uppercase or lowercase"
   ]
  },
  {
   "cell_type": "code",
   "execution_count": 20,
   "metadata": {},
   "outputs": [
    {
     "name": "stdout",
     "output_type": "stream",
     "text": [
      "Type any charachterB\n",
      "Uppercase B\n"
     ]
    }
   ],
   "source": [
    "char = input(\"Type any charachter\")\n",
    "if(char >= 'A' and char <= 'Z'):\n",
    "    print(\"Uppercase\",char) \n",
    "elif(char >= 'a' and char <= 'z'):\n",
    "    print(\"lowercase\",char)\n",
    "else:\n",
    "    print(\"let me check\",char)"
   ]
  },
  {
   "cell_type": "code",
   "execution_count": 16,
   "metadata": {
    "scrolled": true
   },
   "outputs": [
    {
     "name": "stdout",
     "output_type": "stream",
     "text": [
      "10\n",
      "SUM of all odd numbers 1\n",
      "SUM of all odd numbers 4\n",
      "SUM of all odd numbers 9\n",
      "SUM of all odd numbers 16\n",
      "SUM of all odd numbers 25\n"
     ]
    }
   ],
   "source": [
    "# program tp find sum of all odd num between 1 to n\n",
    "n = int(input())\n",
    "sum_of_odd = 0\n",
    "for num in range(0,n+1):\n",
    "    if num %2!= 0:\n",
    "        sum_of_odd = sum_of_odd + num\n",
    "        print(\"SUM of all odd numbers\",sum_of_odd)\n",
    "        "
   ]
  },
  {
   "cell_type": "code",
   "execution_count": null,
   "metadata": {},
   "outputs": [],
   "source": []
  }
 ],
 "metadata": {
  "kernelspec": {
   "display_name": "Python 3",
   "language": "python",
   "name": "python3"
  },
  "language_info": {
   "codemirror_mode": {
    "name": "ipython",
    "version": 3
   },
   "file_extension": ".py",
   "mimetype": "text/x-python",
   "name": "python",
   "nbconvert_exporter": "python",
   "pygments_lexer": "ipython3",
   "version": "3.7.6"
  }
 },
 "nbformat": 4,
 "nbformat_minor": 4
}
