{
 "cells": [
  {
   "cell_type": "code",
   "execution_count": 4,
   "metadata": {},
   "outputs": [
    {
     "name": "stdout",
     "output_type": "stream",
     "text": [
      "enter num1:10\n",
      "enter num2:10\n",
      "press /n1for addition \n",
      "2for substraction \n",
      "3for multiplication \n",
      "4for division\n",
      "enter operation:2\n",
      "substraction 0\n"
     ]
    }
   ],
   "source": [
    "# ask for 2 numbers from users & store in num1 and num2\n",
    "# ASK USER PRESS 1 FOR ADDITION 2 FOR SUBSTRACTION 3 FOR MULTIPLICATION 4 FOR DIVISION\n",
    "# BASED ON NUM GIVEN BY USER PERFORM OPERATION\n",
    " \n",
    "    \n",
    "num1 = int(input(\"enter num1:\"))\n",
    "num2 = int(input(\"enter num2:\"))\n",
    "print(\"press /n1for addition \\n2for substraction \\n3for multiplication \\n4for division\")\n",
    "operation = input(\"enter operation:\")\n",
    "if (operation == \"1\"):\n",
    "           print(\"addition\",num1+num2)\n",
    "elif (operation == \"2\"):\n",
    "           print(\"substraction\",num1-num2)\n",
    "elif (operation == \"3\"):\n",
    "           print(\"multiplication\",num1*num2)\n",
    "elif (operation == \"4\"):\n",
    "           print(\"division\",num1/num2)\n",
    "\n",
    "        "
   ]
  },
  {
   "cell_type": "code",
   "execution_count": null,
   "metadata": {},
   "outputs": [],
   "source": []
  }
 ],
 "metadata": {
  "kernelspec": {
   "display_name": "Python 3",
   "language": "python",
   "name": "python3"
  },
  "language_info": {
   "codemirror_mode": {
    "name": "ipython",
    "version": 3
   },
   "file_extension": ".py",
   "mimetype": "text/x-python",
   "name": "python",
   "nbconvert_exporter": "python",
   "pygments_lexer": "ipython3",
   "version": "3.7.6"
  }
 },
 "nbformat": 4,
 "nbformat_minor": 4
}
