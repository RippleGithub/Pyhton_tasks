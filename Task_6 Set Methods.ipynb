{
 "cells": [
  {
   "cell_type": "markdown",
   "metadata": {},
   "source": [
    "# #  set methods "
   ]
  },
  {
   "cell_type": "code",
   "execution_count": null,
   "metadata": {},
   "outputs": [],
   "source": [
    "# 1) difference()\n",
    "# it will return the difference between two set\n",
    "# syntax\n",
    "# set.difference(set)\n",
    "# difference() will return only sets available in first set.\n"
   ]
  },
  {
   "cell_type": "code",
   "execution_count": 4,
   "metadata": {},
   "outputs": [
    {
     "name": "stdout",
     "output_type": "stream",
     "text": [
      "{'freeze'}\n"
     ]
    }
   ],
   "source": [
    "#Ex.\n",
    "s1 = {\"mobile\",\"tv\",\"laptop\",\"freeze\"}\n",
    "s2 = {\"mobile\",\"tv\",\"console\",\"laptop\"}\n",
    "s3 = s1.difference(s2)\n",
    "print(s3)\n"
   ]
  },
  {
   "cell_type": "code",
   "execution_count": 5,
   "metadata": {},
   "outputs": [
    {
     "name": "stdout",
     "output_type": "stream",
     "text": [
      "{'console'}\n"
     ]
    }
   ],
   "source": [
    "s1 = {\"mobile\",\"tv\",\"laptop\",\"freeze\"}\n",
    "s2 = {\"mobile\",\"tv\",\"console\",\"laptop\"}\n",
    "s3 = s2.difference(s1)\n",
    "print(s3)"
   ]
  },
  {
   "cell_type": "code",
   "execution_count": 7,
   "metadata": {},
   "outputs": [],
   "source": [
    "# 2) difference_update()\n",
    "# it removes the item present in both the set\n",
    "# difference() method returns a new set wihtout unwanted items\n",
    "# difference() method removes unwanted items\n"
   ]
  },
  {
   "cell_type": "code",
   "execution_count": 15,
   "metadata": {},
   "outputs": [
    {
     "name": "stdout",
     "output_type": "stream",
     "text": [
      "{'console', 'freeze'}\n"
     ]
    }
   ],
   "source": [
    "#Ex. \n",
    "s1 = {\"mobile\",\"freeze\",\"console\"}\n",
    "s2 = {\"mobile\",\"tv\",\"laptop\"}\n",
    "s1.difference_update(s2)\n",
    "print(s1)"
   ]
  },
  {
   "cell_type": "code",
   "execution_count": 16,
   "metadata": {},
   "outputs": [
    {
     "name": "stdout",
     "output_type": "stream",
     "text": [
      "{'cherry', 'banana'}\n"
     ]
    }
   ],
   "source": [
    "x = {\"apple\", \"banana\", \"cherry\"}\n",
    "y = {\"google\", \"microsoft\", \"apple\"}\n",
    "\n",
    "x.difference_update(y) \n",
    "\n",
    "print(x)"
   ]
  },
  {
   "cell_type": "code",
   "execution_count": 17,
   "metadata": {},
   "outputs": [],
   "source": [
    "# 3) symmetric_diffence()\n",
    "# it returns all items present in both set except same items"
   ]
  },
  {
   "cell_type": "code",
   "execution_count": 19,
   "metadata": {},
   "outputs": [
    {
     "name": "stdout",
     "output_type": "stream",
     "text": [
      "{'console', 'mobile', 'freeze'}\n"
     ]
    }
   ],
   "source": [
    "#Ex. \n",
    "s1 = {\"mobile\",\"freeze\",\"console\"}\n",
    "s2 = {\"mobile\",\"tv\",\"laptop\"}\n",
    "s1.symmetric_difference(s2)\n",
    "print(s1)"
   ]
  },
  {
   "cell_type": "code",
   "execution_count": 20,
   "metadata": {},
   "outputs": [],
   "source": [
    "# 4) symmetric_diffence_update()\n",
    "# it removes same items from both sets and add item item which are not in both sets"
   ]
  },
  {
   "cell_type": "code",
   "execution_count": 22,
   "metadata": {},
   "outputs": [
    {
     "name": "stdout",
     "output_type": "stream",
     "text": [
      "{'laptop', 'console', 'tv'}\n"
     ]
    }
   ],
   "source": [
    "s1 = {\"mobile\",\"freeze\",\"console\"}\n",
    "s2 = {\"mobile\",\"tv\",\"laptop\",\"freeze\"}\n",
    "s1.symmetric_difference_update(s2)\n",
    "print(s1)"
   ]
  },
  {
   "cell_type": "code",
   "execution_count": null,
   "metadata": {},
   "outputs": [],
   "source": []
  }
 ],
 "metadata": {
  "kernelspec": {
   "display_name": "Python 3",
   "language": "python",
   "name": "python3"
  },
  "language_info": {
   "codemirror_mode": {
    "name": "ipython",
    "version": 3
   },
   "file_extension": ".py",
   "mimetype": "text/x-python",
   "name": "python",
   "nbconvert_exporter": "python",
   "pygments_lexer": "ipython3",
   "version": "3.7.6"
  }
 },
 "nbformat": 4,
 "nbformat_minor": 4
}
