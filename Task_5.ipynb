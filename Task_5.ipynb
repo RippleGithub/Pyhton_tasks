{
 "cells": [
  {
   "cell_type": "code",
   "execution_count": null,
   "metadata": {},
   "outputs": [],
   "source": [
    "# task\n",
    "# for the given dictionary{}\n",
    "dict1 = {\n",
    "    \"april_batch\":{\n",
    "        \"student\":{\n",
    "            \"name\":\"mike\",\n",
    "            \"marks\":{\n",
    "                \"python\":80,\n",
    "                \"math\":70\n",
    "            }\n",
    "        }\n",
    "    }\n",
    "}       \n",
    "#access mike\n",
    "#acess 80\n",
    "#change name\n",
    "#add ML =80 and DL =80 inside marks.\n"
   ]
  },
  {
   "cell_type": "code",
   "execution_count": 4,
   "metadata": {},
   "outputs": [
    {
     "data": {
      "text/plain": [
       "'mike'"
      ]
     },
     "execution_count": 4,
     "metadata": {},
     "output_type": "execute_result"
    }
   ],
   "source": [
    "#access mike\n",
    "dict1 = {\n",
    "    \"april_batch\":{\n",
    "        \"student\":{\n",
    "            \"name\":\"mike\",\n",
    "            \"marks\":{\n",
    "                \"python\":80,\n",
    "                \"math\":70\n",
    "            }\n",
    "        }\n",
    "    }\n",
    "} \n",
    "dict1 [\"april_batch\"][\"student\"][\"name\"]"
   ]
  },
  {
   "cell_type": "code",
   "execution_count": 5,
   "metadata": {},
   "outputs": [
    {
     "data": {
      "text/plain": [
       "80"
      ]
     },
     "execution_count": 5,
     "metadata": {},
     "output_type": "execute_result"
    }
   ],
   "source": [
    "#access 80\n",
    "dict1 = {\n",
    "    \"april_batch\":{\n",
    "        \"student\":{\n",
    "            \"name\":\"mike\",\n",
    "            \"marks\":{\n",
    "                \"python\":80,\n",
    "                \"math\":70\n",
    "            }\n",
    "        }\n",
    "    }\n",
    "} \n",
    "dict1 [\"april_batch\"][\"student\"][\"marks\"][\"python\"]"
   ]
  },
  {
   "cell_type": "code",
   "execution_count": 19,
   "metadata": {},
   "outputs": [
    {
     "data": {
      "text/plain": [
       "{'april_batch': {'student': {'name': 'johny',\n",
       "   'marks': {'python': 80, 'math': 70}}}}"
      ]
     },
     "execution_count": 19,
     "metadata": {},
     "output_type": "execute_result"
    }
   ],
   "source": [
    "dict1 = {\n",
    "    \"april_batch\":{\n",
    "        \"student\":{\n",
    "            \"name\":\"mike\",\n",
    "            \"marks\":{\n",
    "                \"python\":80,\n",
    "                \"math\":70\n",
    "            }\n",
    "        }\n",
    "    }\n",
    "} \n",
    "\n",
    "dict1[\"april_batch\"][\"student\"][\"name\"]=\"johny\"\n",
    "dict1"
   ]
  },
  {
   "cell_type": "code",
   "execution_count": 23,
   "metadata": {},
   "outputs": [
    {
     "data": {
      "text/plain": [
       "{'april_batch': {'student': {'name': 'johny',\n",
       "   'marks': {'python': 80, 'math': 70, 'ML': '80'}}}}"
      ]
     },
     "execution_count": 23,
     "metadata": {},
     "output_type": "execute_result"
    }
   ],
   "source": [
    "# Add ML=80 DL=80\n",
    "dict1[\"april_batch\"][\"student\"][\"marks\"][\"ML\"]=\"80\"\n",
    "print(dict1)\n"
   ]
  },
  {
   "cell_type": "code",
   "execution_count": 26,
   "metadata": {},
   "outputs": [
    {
     "name": "stdout",
     "output_type": "stream",
     "text": [
      "{'april_batch': {'student': {'name': 'johny', 'marks': {'python': 80, 'math': 70, 'ML': '80', 'DL': '80'}}}}\n"
     ]
    }
   ],
   "source": [
    "#Add DL=80\n",
    "dict1[\"april_batch\"][\"student\"][\"marks\"][\"DL\"]=\"80\"\n",
    "print(dict1)\n"
   ]
  },
  {
   "cell_type": "code",
   "execution_count": null,
   "metadata": {},
   "outputs": [],
   "source": []
  }
 ],
 "metadata": {
  "kernelspec": {
   "display_name": "Python 3",
   "language": "python",
   "name": "python3"
  },
  "language_info": {
   "codemirror_mode": {
    "name": "ipython",
    "version": 3
   },
   "file_extension": ".py",
   "mimetype": "text/x-python",
   "name": "python",
   "nbconvert_exporter": "python",
   "pygments_lexer": "ipython3",
   "version": "3.7.6"
  }
 },
 "nbformat": 4,
 "nbformat_minor": 4
}
